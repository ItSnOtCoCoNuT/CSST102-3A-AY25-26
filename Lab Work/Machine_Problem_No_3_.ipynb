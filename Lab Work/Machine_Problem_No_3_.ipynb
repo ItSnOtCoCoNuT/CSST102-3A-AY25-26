{
  "nbformat": 4,
  "nbformat_minor": 0,
  "metadata": {
    "colab": {
      "provenance": [],
      "authorship_tag": "ABX9TyPZaM1FLYComDqdHQ9VADqz",
      "include_colab_link": true
    },
    "kernelspec": {
      "name": "ir",
      "display_name": "R"
    },
    "language_info": {
      "name": "R"
    }
  },
  "cells": [
    {
      "cell_type": "markdown",
      "metadata": {
        "id": "view-in-github",
        "colab_type": "text"
      },
      "source": [
        "<a href=\"https://colab.research.google.com/github/ItSnOtCoCoNuT/CSST102-3A-AY25-26/blob/main/Machine_Problem_No_3_.ipynb\" target=\"_parent\"><img src=\"https://colab.research.google.com/assets/colab-badge.svg\" alt=\"Open In Colab\"/></a>"
      ]
    },
    {
      "cell_type": "code",
      "execution_count": null,
      "metadata": {
        "colab": {
          "base_uri": "https://localhost:8080/"
        },
        "id": "2UHQM2NVaUEz",
        "outputId": "75e6f60c-7bb5-4c52-a92e-894b8d6a11d0"
      },
      "outputs": [
        {
          "output_type": "stream",
          "name": "stdout",
          "text": [
            "=== COMPUTER TROUBLESHOOTING ASSISTANT ===\n"
          ]
        }
      ],
      "source": [
        "# ==========================================\n",
        "# COMPUTER TROUBLESHOOTING EXPERT SYSTEM\n",
        "# by Almighty Bossman 👑\n",
        "# ==========================================\n",
        "\n",
        "# This program acts as a simple rule-based expert system that\n",
        "# provides possible solutions based on common PC problems.\n",
        "\n",
        "cat(\"=== COMPUTER TROUBLESHOOTING ASSISTANT ===\\n\")\n",
        "\n",
        "# --- Step 1: Accept user input ---\n",
        "symptom <- readline(prompt = \"What problem are you experiencing? (no boot / slow performance / no display / overheating / no internet): \")\n",
        "\n",
        "# --- Step 2: Apply rules based on user input ---\n",
        "if (symptom == \"no boot\") {\n",
        "  cat(\"\\n[Condition] System does not boot.\\n\")\n",
        "  power <- readline(prompt = \"Do fans or lights turn on? (yes/no): \")\n",
        "\n",
        "  if (power == \"no\") {\n",
        "    cat(\"[Conclusion] Possible power issue. Check the power cable, PSU switch, or UPS.\\n\")\n",
        "  } else {\n",
        "    cat(\"[Conclusion] Power is fine. Try reseating RAM or checking your motherboard connections.\\n\")\n",
        "  }\n",
        "\n",
        "} else if (symptom == \"slow performance\") {\n",
        "  cat(\"\\n[Condition] System is running slow.\\n\")\n",
        "  usage <- readline(prompt = \"Is CPU or memory usage high? (yes/no): \")\n",
        "\n",
        "  if (usage == \"yes\") {\n",
        "    cat(\"[Conclusion] Too many background processes. Try closing apps or upgrading RAM.\\n\")\n",
        "  } else {\n",
        "    cat(\"[Conclusion] Possible hard drive issue. Consider SSD upgrade or disk cleanup.\\n\")\n",
        "  }\n",
        "\n",
        "} else if (symptom == \"no display\") {\n",
        "  cat(\"\\n[Condition] No display output.\\n\")\n",
        "  gpu <- readline(prompt = \"Is there a GPU installed? (yes/no): \")\n",
        "\n",
        "  if (gpu == \"yes\") {\n",
        "    cat(\"[Conclusion] Check GPU power connectors and monitor cable.\\n\")\n",
        "  } else {\n",
        "    cat(\"[Conclusion] Try using onboard graphics or check monitor connection.\\n\")\n",
        "  }\n",
        "\n",
        "} else if (symptom == \"overheating\") {\n",
        "  cat(\"\\n[Condition] System is overheating.\\n\")\n",
        "  fan <- readline(prompt = \"Are fans spinning properly? (yes/no): \")\n",
        "\n",
        "  if (fan == \"no\") {\n",
        "    cat(\"[Conclusion] Check or replace faulty fans. Ensure airflow is not blocked.\\n\")\n",
        "  } else {\n",
        "    cat(\"[Conclusion] Clean dust from components and reapply thermal paste.\\n\")\n",
        "  }\n",
        "\n",
        "} else if (symptom == \"no internet\") {\n",
        "  cat(\"\\n[Condition] Internet connection issue.\\n\")\n",
        "  wifi <- readline(prompt = \"Are you using Wi-Fi or LAN? (wifi/lan): \")\n",
        "\n",
        "  # --- Chained Rule Example ---\n",
        "  if (wifi == \"wifi\") {\n",
        "    signal <- readline(prompt = \"Do you have Wi-Fi signal? (yes/no): \")\n",
        "    if (signal == \"no\") {\n",
        "      cat(\"[Conclusion] Weak Wi-Fi signal. Move closer to router or restart it.\\n\")\n",
        "    } else {\n",
        "      cat(\"[Conclusion] Check Wi-Fi adapter drivers or reset network settings.\\n\")\n",
        "    }\n",
        "  } else if (wifi == \"lan\") {\n",
        "    cat(\"[Conclusion] Check Ethernet cable or disable/enable the network adapter.\\n\")\n",
        "  } else {\n",
        "    cat(\"[Conclusion] Invalid input.\\n\")\n",
        "  }\n",
        "\n",
        "} else {\n",
        "  cat(\"\\n[Conclusion] Unknown problem. Please provide a valid issue.\\n\")\n",
        "}\n",
        "\n",
        "cat(\"\\n=== END OF DIAGNOSIS ===\\n\")\n"
      ]
    }
  ]
}
